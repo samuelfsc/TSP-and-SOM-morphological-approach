{
 "cells": [
  {
   "cell_type": "code",
   "execution_count": 1,
   "id": "baa6690a",
   "metadata": {},
   "outputs": [
    {
     "data": {
      "text/plain": [
       "Plots.PyPlotBackend()"
      ]
     },
     "execution_count": 1,
     "metadata": {},
     "output_type": "execute_result"
    }
   ],
   "source": [
    "using Plots\n",
    "using Plots.Measures\n",
    "pyplot()"
   ]
  },
  {
   "cell_type": "code",
   "execution_count": 2,
   "id": "2cd3e4ef",
   "metadata": {},
   "outputs": [
    {
     "data": {
      "text/plain": [
       "hMM_som (generic function with 1 method)"
      ]
     },
     "execution_count": 2,
     "metadata": {},
     "output_type": "execute_result"
    }
   ],
   "source": [
    "include(\"TSP_and_SOM.jl\")"
   ]
  },
  {
   "cell_type": "markdown",
   "id": "656f7f73",
   "metadata": {},
   "source": [
    "# Toy Image"
   ]
  },
  {
   "cell_type": "code",
   "execution_count": 3,
   "id": "5c8f4aa3",
   "metadata": {},
   "outputs": [
    {
     "data": {
      "image/png": "[encoded data removed]",
      "text/html": [
       "<img src=\"data:image/png;base64,iVBORw0KGgoAAAANSUhEUgAAAEsAAACWCAIAAAAZjOJMAAAABGdBTUEAALGPC/xhBQAAAAFzUkdCAK7OHOkAAAAgY0hSTQAAeiYAAICEAAD6AAAAgOgAAHUwAADqYAAAOpgAABdwnLpRPAAAARdJREFUeAHdwbENwwAMwDANOtVf1b+2LySDgUKk/IsvN6RO6qRO6qRO6qRO6qRO6qRO6qRO6qRO6qRO6qRO6qRO6qRO6qRO6qRO6qROzswMj+1yROqkTuqkTuqkTuqkTuqkTuqkTuqkTs7sLi98uCF1Uid1Uid1Uid1Uid1Uid1Uid1Uid1Uid1Uid1Uid1Uid1Uid1Uid1Uid1Uid1Uid1Uid1Uid1Uid1Uid1Uid1UidnZobHdjkidVIndVIndVIndVIndVIndVIndVInZ3aXFz7ckDqpkzqpkzqpkzqpkzqpkzqpkzqpkzqpkzqpkzqpkzqpkzqpkzqpkzqpkzqpkzqpkzqpkzqpkzqpkzqpkzqpkzqp+wFdWAz+HsmDbAAAAABJRU5ErkJg\">"
      ],
      "text/plain": [
       "10×5 Array{RGB{N0f8},2} with eltype RGB{N0f8}:\n",
       " RGB{N0f8}(0.0,0.0,0.0)  RGB{N0f8}(0.0,0.0,0.0)  …  RGB{N0f8}(0.0,0.0,1.0)\n",
       " RGB{N0f8}(0.0,0.0,0.0)  RGB{N0f8}(0.0,0.0,0.0)     RGB{N0f8}(0.0,0.0,1.0)\n",
       " RGB{N0f8}(0.0,0.0,0.0)  RGB{N0f8}(0.0,0.0,0.0)     RGB{N0f8}(0.0,0.0,1.0)\n",
       " RGB{N0f8}(0.0,0.0,0.0)  RGB{N0f8}(0.0,0.0,0.0)     RGB{N0f8}(0.0,0.0,1.0)\n",
       " RGB{N0f8}(0.0,0.0,0.0)  RGB{N0f8}(0.0,0.0,0.0)     RGB{N0f8}(0.0,0.0,1.0)\n",
       " RGB{N0f8}(0.0,0.0,0.0)  RGB{N0f8}(0.0,0.0,0.0)  …  RGB{N0f8}(0.0,0.0,1.0)\n",
       " RGB{N0f8}(0.0,0.0,0.0)  RGB{N0f8}(0.0,0.0,0.0)     RGB{N0f8}(0.0,0.0,1.0)\n",
       " RGB{N0f8}(0.0,0.0,0.0)  RGB{N0f8}(0.0,0.0,0.0)     RGB{N0f8}(0.0,0.0,1.0)\n",
       " RGB{N0f8}(0.0,0.0,0.0)  RGB{N0f8}(0.0,0.0,0.0)     RGB{N0f8}(0.0,0.0,1.0)\n",
       " RGB{N0f8}(0.0,0.0,0.0)  RGB{N0f8}(0.0,0.0,0.0)     RGB{N0f8}(0.0,0.0,1.0)"
      ]
     },
     "execution_count": 3,
     "metadata": {},
     "output_type": "execute_result"
    }
   ],
   "source": [
    "Itoy = toy_2gray()"
   ]
  },
  {
   "cell_type": "markdown",
   "id": "a16a6aef",
   "metadata": {},
   "source": [
    "# Dilated - Lexicografical RGB"
   ]
  },
  {
   "cell_type": "code",
   "execution_count": 4,
   "id": "e81fd027",
   "metadata": {},
   "outputs": [
    {
     "data": {
      "image/png": "[encoded data removed]",
      "text/html": [
       "<img src=\"data:image/png;base64,iVBORw0KGgoAAAANSUhEUgAAAEsAAACWCAIAAAAZjOJMAAAABGdBTUEAALGPC/xhBQAAAAFzUkdCAK7OHOkAAAAgY0hSTQAAeiYAAICEAAD6AAAAgOgAAHUwAADqYAAAOpgAABdwnLpRPAAAAT1JREFUeAHdwcGNxDAMwEA+WKpSVdTrXQvOw8CCM3LRHz9A6qRO6qRO6qRO6qRO6qRO6qRO6qROrpl5OLb7cofUSZ3USZ3USZ3USZ3USZ3USZ3USZ18MTPcMfNwbPflmNRJndRJndRJndRJndRJndRJndRJnXyxuxybGY7tvtwhdVIndVIndVIndVIndVIndVIndVIn1+y+/ACpkzqpkzqpkzqpkzqpkzqpkzqpkzq5Zubh2O7LHVIndVIndVIndVIndVIndVIndVIndfLFzHDHzMOx3ZdjUid1Uid1Uid1Uid1Uid1Uid1Uid18sXucmxmOLb7cofUSZ3USZ3USZ3USZ3USZ3USZ3USZ1cs/vyA6RO6qRO6qRO6qRO6qRO6qRO6qRO6qRO6qRO6qRO6qRO6qRO6qRO6qRO6qTuHyVrHvxt17ovAAAAAElFTkSuQmCC\">"
      ],
      "text/plain": [
       "10×5 Array{RGB{N0f8},2} with eltype RGB{N0f8}:\n",
       " RGB{N0f8}(0.0,0.0,0.0)  …  RGB{N0f8}(0.0,0.0,1.0)\n",
       " RGB{N0f8}(0.0,0.0,0.0)     RGB{N0f8}(0.0,0.0,1.0)\n",
       " RGB{N0f8}(0.0,0.0,0.0)     RGB{N0f8}(0.0,0.0,1.0)\n",
       " RGB{N0f8}(0.0,0.0,0.0)     RGB{N0f8}(0.0,0.0,1.0)\n",
       " RGB{N0f8}(0.0,0.0,0.0)     RGB{N0f8}(0.0,0.0,1.0)\n",
       " RGB{N0f8}(0.0,0.0,0.0)  …  RGB{N0f8}(0.0,0.0,1.0)\n",
       " RGB{N0f8}(0.0,0.0,0.0)     RGB{N0f8}(0.0,0.0,1.0)\n",
       " RGB{N0f8}(0.0,0.0,0.0)     RGB{N0f8}(0.0,0.0,1.0)\n",
       " RGB{N0f8}(0.0,0.0,0.0)     RGB{N0f8}(0.0,0.0,1.0)\n",
       " RGB{N0f8}(0.0,0.0,0.0)     RGB{N0f8}(0.0,0.0,1.0)"
      ]
     },
     "execution_count": 4,
     "metadata": {},
     "output_type": "execute_result"
    }
   ],
   "source": [
    "Jrgb = hMM(Itoy, h_rgb, mydilate)"
   ]
  },
  {
   "cell_type": "markdown",
   "id": "c81d938c",
   "metadata": {},
   "source": [
    "# Dilated - Farthest Insertion Heuristic\n",
    "## Order obtained "
   ]
  },
  {
   "cell_type": "code",
   "execution_count": 5,
   "id": "7e281533",
   "metadata": {},
   "outputs": [
    {
     "data": {
      "image/png": "[encoded data removed]",
      "text/html": [
       "<img src=\"data:image/png;base64,iVBORw0KGgoAAAANSUhEUgAAAEsAAACWCAIAAAAZjOJMAAAABGdBTUEAALGPC/xhBQAAAAFzUkdCAK7OHOkAAAAgY0hSTQAAeiYAAICEAAD6AAAAgOgAAHUwAADqYAAAOpgAABdwnLpRPAAAARhJREFUeAHdwbENw0AQwDAVGvW38u2arOArDDxEyod+XEDqpE7qpE7qpE7qpE7qpE7qpE7qpE7qpE7qpE7qpE7qpE7qpE7qpE7qpE7qZOOcw2sz3EDqpE7qpE7qpE7qpE7qpE7qpE7qpE42ZoaFhwtIndRJndRJndRJndRJndRJndRJndRJndRJndRJndRJndRJndRJndRJndRJndRJndRJndRJndRJndRJndRJndRJndTJxjmH12a4gdRJndRJndRJndRJndRJndRJndRJnWzMDAsPF5A6qZM6qZM6qZM6qZM6qZM6qZM6qZM6qZM6qZM6qZM6qZM6qZM6qZM6qZM6qZM6qZM6qZM6qZM6qZM6qZM6qZM6qfsDPHcM/jZuUxUAAAAASUVORK5C\">"
      ],
      "text/plain": [
       "10×5 Array{RGB{N0f8},2} with eltype RGB{N0f8}:\n",
       " RGB{N0f8}(0.0,0.0,0.0)  …  RGB{N0f8}(0.0,0.0,1.0)\n",
       " RGB{N0f8}(0.0,0.0,0.0)     RGB{N0f8}(0.0,0.0,1.0)\n",
       " RGB{N0f8}(0.0,0.0,0.0)     RGB{N0f8}(0.0,0.0,1.0)\n",
       " RGB{N0f8}(0.0,0.0,0.0)     RGB{N0f8}(0.0,0.0,1.0)\n",
       " RGB{N0f8}(0.0,0.0,0.0)     RGB{N0f8}(0.0,0.0,1.0)\n",
       " RGB{N0f8}(0.0,0.0,0.0)  …  RGB{N0f8}(0.0,0.0,1.0)\n",
       " RGB{N0f8}(0.0,0.0,0.0)     RGB{N0f8}(0.0,0.0,1.0)\n",
       " RGB{N0f8}(0.0,0.0,0.0)     RGB{N0f8}(0.0,0.0,1.0)\n",
       " RGB{N0f8}(0.0,0.0,0.0)     RGB{N0f8}(0.0,0.0,1.0)\n",
       " RGB{N0f8}(0.0,0.0,0.0)     RGB{N0f8}(0.0,0.0,1.0)"
      ]
     },
     "execution_count": 5,
     "metadata": {},
     "output_type": "execute_result"
    }
   ],
   "source": [
    "Jfarthest = hMMp(Itoy, mydilate)"
   ]
  },
  {
   "cell_type": "code",
   "execution_count": 6,
   "id": "849b810f",
   "metadata": {},
   "outputs": [
    {
     "data": {
      "image/svg+xml": [
       "<?xml version=\"1.0\" encoding=\"UTF-8\"?>\n",
       "<!DOCTYPE svg PUBLIC \"-//W3C//DTD SVG 1.1//EN\"\n",
       " \"http://www.w3.org/Graphics/SVG/1.1/DTD/svg11.dtd\">\n",
       "<svg xmlns=\"http://www.w3.org/2000/svg\" version=\"1.1\"\n",
       "     width=\"180mm\" height=\"25mm\"\n",
       "     viewBox=\"0 0 50 1\" preserveAspectRatio=\"none\"\n",
       "     shape-rendering=\"crispEdges\" stroke=\"none\">\n",
       "<rect width=\".72\" height=\".96\" x=\"0\" y=\"0\" fill=\"#000000\" />\n",
       "<rect width=\".72\" height=\".96\" x=\"1\" y=\"0\" fill=\"#000000\" />\n",
       "<rect width=\".72\" height=\".96\" x=\"2\" y=\"0\" fill=\"#000000\" />\n",
       "<rect width=\".72\" height=\".96\" x=\"3\" y=\"0\" fill=\"#000000\" />\n",
       "<rect width=\".72\" height=\".96\" x=\"4\" y=\"0\" fill=\"#000000\" />\n",
       "<rect width=\".72\" height=\".96\" x=\"5\" y=\"0\" fill=\"#000000\" />\n",
       "<rect width=\".72\" height=\".96\" x=\"6\" y=\"0\" fill=\"#000000\" />\n",
       "<rect width=\".72\" height=\".96\" x=\"7\" y=\"0\" fill=\"#000000\" />\n",
       "<rect width=\".72\" height=\".96\" x=\"8\" y=\"0\" fill=\"#000000\" />\n",
       "<rect width=\".72\" height=\".96\" x=\"9\" y=\"0\" fill=\"#000000\" />\n",
       "<rect width=\".72\" height=\".96\" x=\"10\" y=\"0\" fill=\"#000000\" />\n",
       "<rect width=\".72\" height=\".96\" x=\"11\" y=\"0\" fill=\"#000000\" />\n",
       "<rect width=\".72\" height=\".96\" x=\"12\" y=\"0\" fill=\"#000000\" />\n",
       "<rect width=\".72\" height=\".96\" x=\"13\" y=\"0\" fill=\"#000000\" />\n",
       "<rect width=\".72\" height=\".96\" x=\"14\" y=\"0\" fill=\"#000000\" />\n",
       "<rect width=\".72\" height=\".96\" x=\"15\" y=\"0\" fill=\"#000000\" />\n",
       "<rect width=\".72\" height=\".96\" x=\"16\" y=\"0\" fill=\"#000000\" />\n",
       "<rect width=\".72\" height=\".96\" x=\"17\" y=\"0\" fill=\"#000000\" />\n",
       "<rect width=\".72\" height=\".96\" x=\"18\" y=\"0\" fill=\"#000000\" />\n",
       "<rect width=\".72\" height=\".96\" x=\"19\" y=\"0\" fill=\"#000000\" />\n",
       "<rect width=\".72\" height=\".96\" x=\"20\" y=\"0\" fill=\"#000000\" />\n",
       "<rect width=\".72\" height=\".96\" x=\"21\" y=\"0\" fill=\"#000000\" />\n",
       "<rect width=\".72\" height=\".96\" x=\"22\" y=\"0\" fill=\"#000000\" />\n",
       "<rect width=\".72\" height=\".96\" x=\"23\" y=\"0\" fill=\"#000000\" />\n",
       "<rect width=\".72\" height=\".96\" x=\"24\" y=\"0\" fill=\"#000000\" />\n",
       "<rect width=\".72\" height=\".96\" x=\"25\" y=\"0\" fill=\"#000000\" />\n",
       "<rect width=\".72\" height=\".96\" x=\"26\" y=\"0\" fill=\"#000000\" />\n",
       "<rect width=\".72\" height=\".96\" x=\"27\" y=\"0\" fill=\"#000000\" />\n",
       "<rect width=\".72\" height=\".96\" x=\"28\" y=\"0\" fill=\"#646464\" />\n",
       "<rect width=\".72\" height=\".96\" x=\"29\" y=\"0\" fill=\"#646464\" />\n",
       "<rect width=\".72\" height=\".96\" x=\"30\" y=\"0\" fill=\"#0000FF\" />\n",
       "<rect width=\".72\" height=\".96\" x=\"31\" y=\"0\" fill=\"#0000FF\" />\n",
       "<rect width=\".72\" height=\".96\" x=\"32\" y=\"0\" fill=\"#0000FF\" />\n",
       "<rect width=\".72\" height=\".96\" x=\"33\" y=\"0\" fill=\"#0000FF\" />\n",
       "<rect width=\".72\" height=\".96\" x=\"34\" y=\"0\" fill=\"#0000FF\" />\n",
       "<rect width=\".72\" height=\".96\" x=\"35\" y=\"0\" fill=\"#0000FF\" />\n",
       "<rect width=\".72\" height=\".96\" x=\"36\" y=\"0\" fill=\"#0000FF\" />\n",
       "<rect width=\".72\" height=\".96\" x=\"37\" y=\"0\" fill=\"#0000FF\" />\n",
       "<rect width=\".72\" height=\".96\" x=\"38\" y=\"0\" fill=\"#0000FF\" />\n",
       "<rect width=\".72\" height=\".96\" x=\"39\" y=\"0\" fill=\"#0000FF\" />\n",
       "<rect width=\".72\" height=\".96\" x=\"40\" y=\"0\" fill=\"#0000FF\" />\n",
       "<rect width=\".72\" height=\".96\" x=\"41\" y=\"0\" fill=\"#0000FF\" />\n",
       "<rect width=\".72\" height=\".96\" x=\"42\" y=\"0\" fill=\"#0000FF\" />\n",
       "<rect width=\".72\" height=\".96\" x=\"43\" y=\"0\" fill=\"#0000FF\" />\n",
       "<rect width=\".72\" height=\".96\" x=\"44\" y=\"0\" fill=\"#0000FF\" />\n",
       "<rect width=\".72\" height=\".96\" x=\"45\" y=\"0\" fill=\"#0000FF\" />\n",
       "<rect width=\".72\" height=\".96\" x=\"46\" y=\"0\" fill=\"#0000FF\" />\n",
       "<rect width=\".72\" height=\".96\" x=\"47\" y=\"0\" fill=\"#0000FF\" />\n",
       "<rect width=\".72\" height=\".96\" x=\"48\" y=\"0\" fill=\"#0000FF\" />\n",
       "<rect width=\".72\" height=\".96\" x=\"49\" y=\"0\" fill=\"#0000FF\" />\n",
       "</svg>"
      ],
      "text/plain": [
       "50-element Array{RGB{N0f8},1} with eltype RGB{N0f8}:\n",
       " RGB{N0f8}(0.0,0.0,0.0)\n",
       " RGB{N0f8}(0.0,0.0,0.0)\n",
       " RGB{N0f8}(0.0,0.0,0.0)\n",
       " RGB{N0f8}(0.0,0.0,0.0)\n",
       " RGB{N0f8}(0.0,0.0,0.0)\n",
       " RGB{N0f8}(0.0,0.0,0.0)\n",
       " RGB{N0f8}(0.0,0.0,0.0)\n",
       " RGB{N0f8}(0.0,0.0,0.0)\n",
       " RGB{N0f8}(0.0,0.0,0.0)\n",
       " RGB{N0f8}(0.0,0.0,0.0)\n",
       " RGB{N0f8}(0.0,0.0,0.0)\n",
       " RGB{N0f8}(0.0,0.0,0.0)\n",
       " RGB{N0f8}(0.0,0.0,0.0)\n",
       " ⋮\n",
       " RGB{N0f8}(0.0,0.0,1.0)\n",
       " RGB{N0f8}(0.0,0.0,1.0)\n",
       " RGB{N0f8}(0.0,0.0,1.0)\n",
       " RGB{N0f8}(0.0,0.0,1.0)\n",
       " RGB{N0f8}(0.0,0.0,1.0)\n",
       " RGB{N0f8}(0.0,0.0,1.0)\n",
       " RGB{N0f8}(0.0,0.0,1.0)\n",
       " RGB{N0f8}(0.0,0.0,1.0)\n",
       " RGB{N0f8}(0.0,0.0,1.0)\n",
       " RGB{N0f8}(0.0,0.0,1.0)\n",
       " RGB{N0f8}(0.0,0.0,1.0)\n",
       " RGB{N0f8}(0.0,0.0,1.0)"
      ]
     },
     "execution_count": 6,
     "metadata": {},
     "output_type": "execute_result"
    }
   ],
   "source": [
    "order1 = espectro(Itoy)"
   ]
  },
  {
   "cell_type": "markdown",
   "id": "e7f87609",
   "metadata": {},
   "source": [
    "# Dilated - Exact Solution\n",
    "## Order obtained"
   ]
  },
  {
   "cell_type": "code",
   "execution_count": 7,
   "id": "792db2f3",
   "metadata": {},
   "outputs": [
    {
     "data": {
      "image/png": "[encoded data removed]",
      "text/html": [
       "<img src=\"data:image/png;base64,iVBORw0KGgoAAAANSUhEUgAAAEsAAACWCAIAAAAZjOJMAAAABGdBTUEAALGPC/xhBQAAAAFzUkdCAK7OHOkAAAAgY0hSTQAAeiYAAICEAAD6AAAAgOgAAHUwAADqYAAAOpgAABdwnLpRPAAAAT9JREFUeAHdwcFtxEAMwEAGYKlKVVavlxbWjwUunJF/6cMxqZM6qZM6qZM6qZM6qZM6qZM6qZM6+RYf7pA6qZM6qZM6qZM6qZM6qZM6qZM6qZM3ZoZju8uxmV+O7T4ckzqpkzqpkzqpkzqpkzqpkzqpkzqpkzd2lzt2lxcejkmd1Emd1Emd1Emd1Emd1Emd1Emd1Mm3+HCH1Emd1Emd1Emd1Emd1Emd1Emd1EmdXDMzHNvlEqmTOqmTOqmTOqmTOqmTOqmTOqmTOnljZrhj5pdjuw/HpE7qpE7qpE7qpE7qpE7qpE7qpE7q5I3d5djMcGz34Q6pkzqpkzqpkzqpkzqpkzqpkzqpkzq5ZvfhC0id1Emd1Emd1Emd1Emd1Emd1Emd1MlFP7zw4Q6pkzqpkzqpkzqpkzqpkzqpkzqpk7o/pm0dz+qWt8EAAAAASUVORK5C\">"
      ],
      "text/plain": [
       "10×5 Array{RGB{N0f8},2} with eltype RGB{N0f8}:\n",
       " RGB{N0f8}(0.0,0.0,0.0)  …  RGB{N0f8}(0.0,0.0,1.0)\n",
       " RGB{N0f8}(0.0,0.0,0.0)     RGB{N0f8}(0.0,0.0,1.0)\n",
       " RGB{N0f8}(0.0,0.0,0.0)     RGB{N0f8}(0.0,0.0,1.0)\n",
       " RGB{N0f8}(0.0,0.0,0.0)     RGB{N0f8}(0.0,0.0,1.0)\n",
       " RGB{N0f8}(0.0,0.0,0.0)     RGB{N0f8}(0.0,0.0,1.0)\n",
       " RGB{N0f8}(0.0,0.0,0.0)  …  RGB{N0f8}(0.0,0.0,1.0)\n",
       " RGB{N0f8}(0.0,0.0,0.0)     RGB{N0f8}(0.0,0.0,1.0)\n",
       " RGB{N0f8}(0.0,0.0,0.0)     RGB{N0f8}(0.0,0.0,1.0)\n",
       " RGB{N0f8}(0.0,0.0,0.0)     RGB{N0f8}(0.0,0.0,1.0)\n",
       " RGB{N0f8}(0.0,0.0,0.0)     RGB{N0f8}(0.0,0.0,1.0)"
      ]
     },
     "execution_count": 7,
     "metadata": {},
     "output_type": "execute_result"
    }
   ],
   "source": [
    "Jexact = hMMpexact(Itoy,mydilate)"
   ]
  },
  {
   "cell_type": "code",
   "execution_count": 8,
   "id": "15670dd2",
   "metadata": {},
   "outputs": [
    {
     "data": {
      "image/svg+xml": [
       "<?xml version=\"1.0\" encoding=\"UTF-8\"?>\n",
       "<!DOCTYPE svg PUBLIC \"-//W3C//DTD SVG 1.1//EN\"\n",
       " \"http://www.w3.org/Graphics/SVG/1.1/DTD/svg11.dtd\">\n",
       "<svg xmlns=\"http://www.w3.org/2000/svg\" version=\"1.1\"\n",
       "     width=\"180mm\" height=\"25mm\"\n",
       "     viewBox=\"0 0 50 1\" preserveAspectRatio=\"none\"\n",
       "     shape-rendering=\"crispEdges\" stroke=\"none\">\n",
       "<rect width=\".72\" height=\".96\" x=\"0\" y=\"0\" fill=\"#000000\" />\n",
       "<rect width=\".72\" height=\".96\" x=\"1\" y=\"0\" fill=\"#000000\" />\n",
       "<rect width=\".72\" height=\".96\" x=\"2\" y=\"0\" fill=\"#000000\" />\n",
       "<rect width=\".72\" height=\".96\" x=\"3\" y=\"0\" fill=\"#000000\" />\n",
       "<rect width=\".72\" height=\".96\" x=\"4\" y=\"0\" fill=\"#000000\" />\n",
       "<rect width=\".72\" height=\".96\" x=\"5\" y=\"0\" fill=\"#000000\" />\n",
       "<rect width=\".72\" height=\".96\" x=\"6\" y=\"0\" fill=\"#000000\" />\n",
       "<rect width=\".72\" height=\".96\" x=\"7\" y=\"0\" fill=\"#000000\" />\n",
       "<rect width=\".72\" height=\".96\" x=\"8\" y=\"0\" fill=\"#000000\" />\n",
       "<rect width=\".72\" height=\".96\" x=\"9\" y=\"0\" fill=\"#000000\" />\n",
       "<rect width=\".72\" height=\".96\" x=\"10\" y=\"0\" fill=\"#000000\" />\n",
       "<rect width=\".72\" height=\".96\" x=\"11\" y=\"0\" fill=\"#000000\" />\n",
       "<rect width=\".72\" height=\".96\" x=\"12\" y=\"0\" fill=\"#000000\" />\n",
       "<rect width=\".72\" height=\".96\" x=\"13\" y=\"0\" fill=\"#000000\" />\n",
       "<rect width=\".72\" height=\".96\" x=\"14\" y=\"0\" fill=\"#000000\" />\n",
       "<rect width=\".72\" height=\".96\" x=\"15\" y=\"0\" fill=\"#000000\" />\n",
       "<rect width=\".72\" height=\".96\" x=\"16\" y=\"0\" fill=\"#000000\" />\n",
       "<rect width=\".72\" height=\".96\" x=\"17\" y=\"0\" fill=\"#000000\" />\n",
       "<rect width=\".72\" height=\".96\" x=\"18\" y=\"0\" fill=\"#000000\" />\n",
       "<rect width=\".72\" height=\".96\" x=\"19\" y=\"0\" fill=\"#000000\" />\n",
       "<rect width=\".72\" height=\".96\" x=\"20\" y=\"0\" fill=\"#000000\" />\n",
       "<rect width=\".72\" height=\".96\" x=\"21\" y=\"0\" fill=\"#000000\" />\n",
       "<rect width=\".72\" height=\".96\" x=\"22\" y=\"0\" fill=\"#000000\" />\n",
       "<rect width=\".72\" height=\".96\" x=\"23\" y=\"0\" fill=\"#000000\" />\n",
       "<rect width=\".72\" height=\".96\" x=\"24\" y=\"0\" fill=\"#000000\" />\n",
       "<rect width=\".72\" height=\".96\" x=\"25\" y=\"0\" fill=\"#0000FF\" />\n",
       "<rect width=\".72\" height=\".96\" x=\"26\" y=\"0\" fill=\"#0000FF\" />\n",
       "<rect width=\".72\" height=\".96\" x=\"27\" y=\"0\" fill=\"#0000FF\" />\n",
       "<rect width=\".72\" height=\".96\" x=\"28\" y=\"0\" fill=\"#0000FF\" />\n",
       "<rect width=\".72\" height=\".96\" x=\"29\" y=\"0\" fill=\"#0000FF\" />\n",
       "<rect width=\".72\" height=\".96\" x=\"30\" y=\"0\" fill=\"#0000FF\" />\n",
       "<rect width=\".72\" height=\".96\" x=\"31\" y=\"0\" fill=\"#0000FF\" />\n",
       "<rect width=\".72\" height=\".96\" x=\"32\" y=\"0\" fill=\"#0000FF\" />\n",
       "<rect width=\".72\" height=\".96\" x=\"33\" y=\"0\" fill=\"#0000FF\" />\n",
       "<rect width=\".72\" height=\".96\" x=\"34\" y=\"0\" fill=\"#0000FF\" />\n",
       "<rect width=\".72\" height=\".96\" x=\"35\" y=\"0\" fill=\"#0000FF\" />\n",
       "<rect width=\".72\" height=\".96\" x=\"36\" y=\"0\" fill=\"#0000FF\" />\n",
       "<rect width=\".72\" height=\".96\" x=\"37\" y=\"0\" fill=\"#0000FF\" />\n",
       "<rect width=\".72\" height=\".96\" x=\"38\" y=\"0\" fill=\"#0000FF\" />\n",
       "<rect width=\".72\" height=\".96\" x=\"39\" y=\"0\" fill=\"#0000FF\" />\n",
       "<rect width=\".72\" height=\".96\" x=\"40\" y=\"0\" fill=\"#0000FF\" />\n",
       "<rect width=\".72\" height=\".96\" x=\"41\" y=\"0\" fill=\"#0000FF\" />\n",
       "<rect width=\".72\" height=\".96\" x=\"42\" y=\"0\" fill=\"#0000FF\" />\n",
       "<rect width=\".72\" height=\".96\" x=\"43\" y=\"0\" fill=\"#0000FF\" />\n",
       "<rect width=\".72\" height=\".96\" x=\"44\" y=\"0\" fill=\"#0000FF\" />\n",
       "<rect width=\".72\" height=\".96\" x=\"45\" y=\"0\" fill=\"#646464\" />\n",
       "<rect width=\".72\" height=\".96\" x=\"46\" y=\"0\" fill=\"#646464\" />\n",
       "<rect width=\".72\" height=\".96\" x=\"47\" y=\"0\" fill=\"#000000\" />\n",
       "<rect width=\".72\" height=\".96\" x=\"48\" y=\"0\" fill=\"#000000\" />\n",
       "<rect width=\".72\" height=\".96\" x=\"49\" y=\"0\" fill=\"#000000\" />\n",
       "</svg>"
      ],
      "text/plain": [
       "50-element Array{RGB{N0f8},1} with eltype RGB{N0f8}:\n",
       " RGB{N0f8}(0.0,0.0,0.0)\n",
       " RGB{N0f8}(0.0,0.0,0.0)\n",
       " RGB{N0f8}(0.0,0.0,0.0)\n",
       " RGB{N0f8}(0.0,0.0,0.0)\n",
       " RGB{N0f8}(0.0,0.0,0.0)\n",
       " RGB{N0f8}(0.0,0.0,0.0)\n",
       " RGB{N0f8}(0.0,0.0,0.0)\n",
       " RGB{N0f8}(0.0,0.0,0.0)\n",
       " RGB{N0f8}(0.0,0.0,0.0)\n",
       " RGB{N0f8}(0.0,0.0,0.0)\n",
       " RGB{N0f8}(0.0,0.0,0.0)\n",
       " RGB{N0f8}(0.0,0.0,0.0)\n",
       " RGB{N0f8}(0.0,0.0,0.0)\n",
       " ⋮\n",
       " RGB{N0f8}(0.0,0.0,1.0)\n",
       " RGB{N0f8}(0.0,0.0,1.0)\n",
       " RGB{N0f8}(0.0,0.0,1.0)\n",
       " RGB{N0f8}(0.0,0.0,1.0)\n",
       " RGB{N0f8}(0.0,0.0,1.0)\n",
       " RGB{N0f8}(0.0,0.0,1.0)\n",
       " RGB{N0f8}(0.0,0.0,1.0)\n",
       " RGB{N0f8}(0.392,0.392,0.392)\n",
       " RGB{N0f8}(0.392,0.392,0.392)\n",
       " RGB{N0f8}(0.0,0.0,0.0)\n",
       " RGB{N0f8}(0.0,0.0,0.0)\n",
       " RGB{N0f8}(0.0,0.0,0.0)"
      ]
     },
     "execution_count": 8,
     "metadata": {},
     "output_type": "execute_result"
    }
   ],
   "source": [
    "order2 = espectro_exact(Itoy)"
   ]
  },
  {
   "cell_type": "markdown",
   "id": "f06dccc5",
   "metadata": {},
   "source": [
    "# Plot"
   ]
  },
  {
   "cell_type": "code",
   "execution_count": 9,
   "id": "c30264c4",
   "metadata": {},
   "outputs": [
    {
     "data": {
      "image/png": "[encoded data removed]"
     },
     "execution_count": 9,
     "metadata": {},
     "output_type": "execute_result"
    }
   ],
   "source": [
    "p1 = plot(Itoy, axis=false, title = \"Toy Image\")\n",
    "p2 = plot(Jrgb, axis = false, title = \"Lex. RGB\")\n",
    "p3 = plot(Jexact, axis = false, title = \"TSP exact\")\n",
    "p4 = plot(Jfarthest, axis = false, title = \"TSP heuristic\")\n",
    "p = plot(p1,p2,p3, p4, layout = (1,4))"
   ]
  }
 ],
 "metadata": {
  "kernelspec": {
   "display_name": "Julia 1.8.0",
   "language": "julia",
   "name": "julia-1.8"
  },
  "language_info": {
   "file_extension": ".jl",
   "mimetype": "application/julia",
   "name": "julia",
   "version": "1.8.0"
  }
 },
 "nbformat": 4,
 "nbformat_minor": 5
}
